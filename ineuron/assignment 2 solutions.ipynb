{
 "cells": [
  {
   "cell_type": "markdown",
   "metadata": {},
   "source": [
    "### Assignment 2"
   ]
  },
  {
   "cell_type": "code",
   "execution_count": 1,
   "metadata": {},
   "outputs": [],
   "source": [
    "def myreduce(func,seq):\n",
    "    result = seq[0]\n",
    "    for item in seq[1:]:\n",
    "        result = func(result,item)\n",
    "    return result"
   ]
  },
  {
   "cell_type": "code",
   "execution_count": 2,
   "metadata": {},
   "outputs": [],
   "source": [
    "def myfilter(func,seq):\n",
    "    result = []\n",
    "    for item in seq:\n",
    "        if func(item):\n",
    "            result.append(item)\n",
    "    return result"
   ]
  },
  {
   "cell_type": "code",
   "execution_count": 3,
   "metadata": {},
   "outputs": [
    {
     "name": "stdout",
     "output_type": "stream",
     "text": [
      "['A', 'C', 'A', 'D', 'G', 'I', 'L', 'D']\n",
      "['x', 'xx', 'xxx', 'xxxx', 'y', 'yy', 'yyy', 'yyyy', 'z', 'zz', 'zzz', 'zzzz']\n",
      "['x', 'y', 'z', 'xx', 'yy', 'zz', 'xxx', 'yyy', 'zzz', 'xxxx', 'yyyy', 'zzzz']\n",
      "[[2], [3], [4], [3], [4], [5], [4], [5], [6]]\n",
      "[[2, 3, 4, 5], [3, 4, 5, 6], [4, 5, 6, 7], [5, 6, 7, 8]]\n",
      "[(1, 1), (1, 2), (1, 3), (2, 1), (2, 2), (2, 3), (3, 1), (3, 2), (3, 3)]\n"
     ]
    }
   ],
   "source": [
    "lst1=[i for i in 'ACADGILD']\n",
    "lst=['x','y','z']\n",
    "lst2=[i*n for i in lst for n in range(1,5)]\n",
    "lst3=[i*n for n in range(1,5) for i in lst]\n",
    "lst4=[[i+j] for i in range(2,5) for j in range(3)]\n",
    "lst5=[[i,i+1,i+2,i+3] for i in range(2,6)]\n",
    "lst6=[(i,j) for i in range(1,4) for j in range(1,4)]\n",
    "\n",
    "print(lst1)\n",
    "print(lst2)\n",
    "print(lst3)\n",
    "print(lst4)\n",
    "print(lst5)\n",
    "print(lst6)"
   ]
  },
  {
   "cell_type": "code",
   "execution_count": 4,
   "metadata": {},
   "outputs": [
    {
     "name": "stdout",
     "output_type": "stream",
     "text": [
      "Enter list of words:\n",
      "a,aa,aaa,aaaa,aaaaa\n",
      "Longest word is 'aaaaa' with length 5\n"
     ]
    }
   ],
   "source": [
    "def longestWord(lst):\n",
    "    max_len=len(lst[0])\n",
    "    max_word=lst[0]\n",
    "    for i in range(1,len(lst)):\n",
    "        if len(lst[i]) > max_len:\n",
    "            max_len=len(lst[i])\n",
    "            max_word=lst[i]\n",
    "    return (max_len,max_word)\n",
    "\n",
    "val=input(\"Enter list of words:\\n\")\n",
    "list_of_words=val.split(',')\n",
    "max_length,longest_word=longestWord(list_of_words)\n",
    "\n",
    "print(f\"Longest word is '{longest_word}' with length {max_length}\")"
   ]
  },
  {
   "cell_type": "code",
   "execution_count": 5,
   "metadata": {},
   "outputs": [
    {
     "name": "stdout",
     "output_type": "stream",
     "text": [
      "Enter the value of side 1: 3\n",
      "Enter the value of side 2: 4\n",
      "Enter the value of side 3: 5\n",
      "Area of the triangle 2.449489742783178\n"
     ]
    }
   ],
   "source": [
    "class Triangle:\n",
    "    def __init__(self,s1,s2,s3):\n",
    "        self.s1=s1\n",
    "        self.s2=s2\n",
    "        self.s3=s3\n",
    "    \n",
    "    def area(self):\n",
    "        s=(self.s1+self.s2+self.s3)/2\n",
    "        return ((s-self.s1)*(s-self.s2)*(s-self.s3))**0.5\n",
    "\n",
    "a=float(input('Enter the value of side 1: '))\n",
    "b=float(input('Enter the value of side 2: '))\n",
    "c=float(input('Enter the value of side 3: '))\n",
    "print('Area of the triangle',Triangle(a,b,c).area())"
   ]
  },
  {
   "cell_type": "code",
   "execution_count": 6,
   "metadata": {},
   "outputs": [
    {
     "name": "stdout",
     "output_type": "stream",
     "text": [
      "Enter list of words:\n",
      "a,aa,aaa,aaaa,aaaaa\n",
      "Enter n2\n",
      "List of words longer than length 2: ['aaa', 'aaaa', 'aaaaa']\n"
     ]
    }
   ],
   "source": [
    "def filter_long_words(lst,n):\n",
    "    long_lst=[]\n",
    "    for i in lst:\n",
    "        if len(i)>n:\n",
    "            long_lst.append(i)\n",
    "    return long_lst\n",
    "\n",
    "val=input(\"Enter list of words:\\n\")\n",
    "list_of_words=val.split(',')\n",
    "n=int(input(\"Enter n\"))\n",
    "long_lst=filter_long_words(list_of_words,n)\n",
    "\n",
    "print(f\"List of words longer than length {n}: {long_lst}\")\n",
    "        \n",
    "    "
   ]
  },
  {
   "cell_type": "code",
   "execution_count": 7,
   "metadata": {},
   "outputs": [
    {
     "name": "stdout",
     "output_type": "stream",
     "text": [
      "Enter list of words:\n",
      "a,aa,aaa,aaaa,aaaaa\n",
      "Word list: ['a', 'aa', 'aaa', 'aaaa', 'aaaaa']\n",
      "Word_length: [1, 2, 3, 4, 5]\n"
     ]
    }
   ],
   "source": [
    "def word_to_length(lst):\n",
    "    word_length=[]\n",
    "    for i in lst:\n",
    "        word_length.append(len(i))\n",
    "    return word_length\n",
    "\n",
    "val=input(\"Enter list of words:\\n\")\n",
    "list_of_words=val.split(',')\n",
    "\n",
    "length_word=word_to_length(list_of_words)\n",
    "\n",
    "print(f\"Word list: {list_of_words}\\nWord_length: {length_word}\")"
   ]
  },
  {
   "cell_type": "code",
   "execution_count": 8,
   "metadata": {},
   "outputs": [
    {
     "name": "stdout",
     "output_type": "stream",
     "text": [
      "Enter character:\n",
      "c\n"
     ]
    },
    {
     "data": {
      "text/plain": [
       "False"
      ]
     },
     "execution_count": 8,
     "metadata": {},
     "output_type": "execute_result"
    }
   ],
   "source": [
    "def check_vowel(c):\n",
    "    vowels=['a','e','i','o','u']\n",
    "    if c in vowels:\n",
    "        return True\n",
    "    else:\n",
    "        return False\n",
    "    \n",
    "c=input(\"Enter character:\\n\")\n",
    "check_vowel(c)\n",
    "    "
   ]
  }
 ],
 "metadata": {
  "kernelspec": {
   "display_name": "Python 3",
   "language": "python",
   "name": "python3"
  },
  "language_info": {
   "codemirror_mode": {
    "name": "ipython",
    "version": 3
   },
   "file_extension": ".py",
   "mimetype": "text/x-python",
   "name": "python",
   "nbconvert_exporter": "python",
   "pygments_lexer": "ipython3",
   "version": "3.7.3"
  }
 },
 "nbformat": 4,
 "nbformat_minor": 2
}
